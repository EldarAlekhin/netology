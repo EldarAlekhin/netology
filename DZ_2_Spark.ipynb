{
 "cells": [
  {
   "cell_type": "code",
   "execution_count": 1,
   "id": "ee8679f1",
   "metadata": {},
   "outputs": [],
   "source": [
    "import findspark"
   ]
  },
  {
   "cell_type": "code",
   "execution_count": null,
   "id": "6810eabd",
   "metadata": {},
   "outputs": [],
   "source": []
  },
  {
   "cell_type": "code",
   "execution_count": 2,
   "id": "40315e80",
   "metadata": {},
   "outputs": [],
   "source": [
    "from pyspark.sql import SparkSession"
   ]
  },
  {
   "cell_type": "code",
   "execution_count": 3,
   "id": "00269c25",
   "metadata": {},
   "outputs": [],
   "source": [
    "spark = SparkSession \\\n",
    "    .builder \\\n",
    "    .appName(\"Домашнее задание 2\") \\\n",
    "    .config(\"spark.some.config.option\", \"some-value\") \\\n",
    "    .getOrCreate()"
   ]
  },
  {
   "cell_type": "code",
   "execution_count": 4,
   "id": "b2356079",
   "metadata": {},
   "outputs": [
    {
     "data": {
      "text/plain": [
       "'\\nЗадание 1 - здесь вы вывели просто значение колонки total_cases - но эта колонка означает количество зафиксированных\\nна данный день случаев (суммарно), а не процент переболевших. Чтобы посчитать процент переболевших, нужно подумать,\\nиз каких колонок это можно вывести. Самое простое - взять total_cases и поделить на population - уже будет неплохая оценка\\nпроцента переболевших. Только не забудьте умножить на 100.\\n\\n'"
      ]
     },
     "execution_count": 4,
     "metadata": {},
     "output_type": "execute_result"
    }
   ],
   "source": [
    "#Выберите 15 стран с наибольшим процентом переболевших на 31 марта \n",
    "#(в выходящем датасете необходимы колонки: iso_code, страна, процент переболевших)\n",
    "\n",
    "\"\"\"\n",
    "Задание 1 - здесь вы вывели просто значение колонки total_cases - но эта колонка означает количество зафиксированных\n",
    "на данный день случаев (суммарно), а не процент переболевших. Чтобы посчитать процент переболевших, нужно подумать,\n",
    "из каких колонок это можно вывести. Самое простое - взять total_cases и поделить на population - уже будет неплохая оценка\n",
    "процента переболевших. Только не забудьте умножить на 100.\n",
    "\n",
    "\"\"\"\n",
    "\n"
   ]
  },
  {
   "cell_type": "code",
   "execution_count": 5,
   "id": "63d991ad",
   "metadata": {},
   "outputs": [],
   "source": [
    "from pyspark.sql.types import *\n",
    "import pyspark.sql.functions as func"
   ]
  },
  {
   "cell_type": "code",
   "execution_count": 6,
   "id": "835c1eae",
   "metadata": {},
   "outputs": [],
   "source": [
    "schema = StructType([StructField(\"iso_code\", StringType(), False),\n",
    "                     StructField(\"continent\", StringType(), True),\n",
    "                     StructField(\"location\", StringType(), False),\n",
    "                     StructField(\"date\", TimestampType(), False),\n",
    "                     StructField(\"total_cases\", IntegerType(), True),\n",
    "                     StructField(\"population\", IntegerType(), True)\n",
    "                    ])"
   ]
  },
  {
   "cell_type": "code",
   "execution_count": 7,
   "id": "cc81a901",
   "metadata": {},
   "outputs": [],
   "source": [
    "df = (spark.read\n",
    "          .option('header', True)\n",
    "          .option('sep', ',')\n",
    "          .option('inferSchema', True)\n",
    "          .csv('Downloads/owid-covid-data.csv')\n",
    "     )"
   ]
  },
  {
   "cell_type": "code",
   "execution_count": 8,
   "id": "82083a39",
   "metadata": {},
   "outputs": [],
   "source": [
    "df = df.select('iso_code', 'location', 'total_cases', \"population\") \\\n",
    ".filter((df.date == '2020-03-31') & (df.continent.isNotNull()))\n"
   ]
  },
  {
   "cell_type": "code",
   "execution_count": 9,
   "id": "bd9c4578",
   "metadata": {},
   "outputs": [],
   "source": [
    "df = df.withColumn('Result', func.round(df['total_cases'] / df['population'] * 100,2))"
   ]
  },
  {
   "cell_type": "code",
   "execution_count": 10,
   "id": "bd5fac09",
   "metadata": {},
   "outputs": [
    {
     "name": "stdout",
     "output_type": "stream",
     "text": [
      "+--------+-------------+-----------+-----------+------+\n",
      "|iso_code|     location|total_cases| population|Result|\n",
      "+--------+-------------+-----------+-----------+------+\n",
      "|     VAT|      Vatican|        6.0|      809.0|  0.74|\n",
      "|     SMR|   San Marino|      236.0|    33938.0|   0.7|\n",
      "|     AND|      Andorra|      376.0|    77265.0|  0.49|\n",
      "|     LUX|   Luxembourg|     2178.0|   625976.0|  0.35|\n",
      "|     ISL|      Iceland|     1135.0|   341250.0|  0.33|\n",
      "|     ESP|        Spain|    95923.0|4.6754783E7|  0.21|\n",
      "|     CHE|  Switzerland|    16605.0|  8654618.0|  0.19|\n",
      "|     LIE|Liechtenstein|       68.0|    38137.0|  0.18|\n",
      "|     ITA|        Italy|   105792.0|6.0461828E7|  0.17|\n",
      "|     MCO|       Monaco|       52.0|    39244.0|  0.13|\n",
      "|     AUT|      Austria|    10180.0|  9006400.0|  0.11|\n",
      "|     BEL|      Belgium|    12775.0|1.1589616E7|  0.11|\n",
      "|     NOR|       Norway|     4641.0|  5421242.0|  0.09|\n",
      "|     DEU|      Germany|    71808.0|8.3783945E7|  0.09|\n",
      "|     FRA|       France|    52278.0|6.8147687E7|  0.08|\n",
      "+--------+-------------+-----------+-----------+------+\n",
      "only showing top 15 rows\n",
      "\n"
     ]
    }
   ],
   "source": [
    "df.sort(df.Result.desc()).show(15)"
   ]
  },
  {
   "cell_type": "code",
   "execution_count": 11,
   "id": "3da6147c",
   "metadata": {
    "collapsed": true
   },
   "outputs": [
    {
     "data": {
      "text/plain": [
       "'\\nTop 10 стран с максимальным зафиксированным кол-вом новых случаев за последнюю неделю марта 2021 в отсортированном \\nпорядке по убыванию (в выходящем датасете необходимы колонки: число, страна, кол-во новых случаев)\\n\\nЗадание 2 - здесь вы используете неправильную колонку для выполнения вычислений. \\nTotal_cases - это суммарное количество случаев, зафиксированных К данной дате. Оно всегда увеличивается, \\nпоэтому когда вы взяли max(total_cases) - у вас всегда максимум будет 31-го числа (самая поздняя дата). \\nЧтобы вычислить правильно, в этом задании нужно использовать колонку new_cases - это количество новых случаев, \\nзафиксированных В данную дату.\\n'"
      ]
     },
     "execution_count": 11,
     "metadata": {},
     "output_type": "execute_result"
    }
   ],
   "source": [
    "'''\n",
    "Top 10 стран с максимальным зафиксированным кол-вом новых случаев за последнюю неделю марта 2021 в отсортированном \n",
    "порядке по убыванию (в выходящем датасете необходимы колонки: число, страна, кол-во новых случаев)\n",
    "\n",
    "Задание 2 - здесь вы используете неправильную колонку для выполнения вычислений. \n",
    "Total_cases - это суммарное количество случаев, зафиксированных К данной дате. Оно всегда увеличивается, \n",
    "поэтому когда вы взяли max(total_cases) - у вас всегда максимум будет 31-го числа (самая поздняя дата). \n",
    "Чтобы вычислить правильно, в этом задании нужно использовать колонку new_cases - это количество новых случаев, \n",
    "зафиксированных В данную дату.\n",
    "'''\n",
    "\n"
   ]
  },
  {
   "cell_type": "code",
   "execution_count": 12,
   "id": "9cee2032",
   "metadata": {},
   "outputs": [],
   "source": [
    "schema = StructType([StructField(\"iso_code\", StringType(), False),\n",
    "                     StructField(\"continent\", StringType(), True),\n",
    "                     StructField(\"location\", StringType(), False),\n",
    "                     StructField(\"date\", TimestampType(), False),\n",
    "                     StructField(\"new_cases\", IntegerType(), True)\n",
    "                    ])"
   ]
  },
  {
   "cell_type": "code",
   "execution_count": 13,
   "id": "e4560f91",
   "metadata": {},
   "outputs": [],
   "source": [
    "df = (spark.read\n",
    "          .option('header', True)\n",
    "          .option('sep', ',')\n",
    "          .option('inferSchema', True)\n",
    "          .csv('Downloads/owid-covid-data.csv')\n",
    "     )"
   ]
  },
  {
   "cell_type": "code",
   "execution_count": 14,
   "id": "b6e8b4e4",
   "metadata": {},
   "outputs": [],
   "source": [
    "df.select('iso_code', 'location', 'new_cases', 'date') \\\n",
    ".filter((df.date >= '2020-03-24') &  (df.date <= '2020-03-31') & (df.continent.isNotNull())) \\\n",
    ".createOrReplaceTempView(\"hmmm\")"
   ]
  },
  {
   "cell_type": "code",
   "execution_count": 15,
   "id": "ee1eca25",
   "metadata": {},
   "outputs": [
    {
     "name": "stdout",
     "output_type": "stream",
     "text": [
      "+----------+--------+--------------+------------+\n",
      "|      date|iso_code|      location|mx_new_cases|\n",
      "+----------+--------+--------------+------------+\n",
      "|2020-03-31|     USA| United States|     26314.0|\n",
      "|2020-03-25|     ESP|         Spain|      9630.0|\n",
      "|2020-03-31|     FRA|        France|      7629.0|\n",
      "|2020-03-27|     DEU|       Germany|      6933.0|\n",
      "|2020-03-26|     ITA|         Italy|      6203.0|\n",
      "|2020-03-31|     GBR|United Kingdom|      4534.0|\n",
      "|2020-03-30|     IRN|          Iran|      3186.0|\n",
      "|2020-03-31|     TUR|        Turkey|      2704.0|\n",
      "|2020-03-28|     BEL|       Belgium|      1850.0|\n",
      "|2020-03-26|     AUT|       Austria|      1321.0|\n",
      "|2020-03-27|     NLD|   Netherlands|      1179.0|\n",
      "|2020-03-28|     CHE|   Switzerland|      1148.0|\n",
      "|2020-03-31|     BRA|        Brazil|      1138.0|\n",
      "|2020-03-31|     CAN|        Canada|      1129.0|\n",
      "|2020-03-25|     ISR|        Israel|      1117.0|\n",
      "+----------+--------+--------------+------------+\n",
      "only showing top 15 rows\n",
      "\n"
     ]
    }
   ],
   "source": [
    "spark.sql(\"Select t2.date, t1.* \" +\n",
    "          \"from (select iso_code, location, max(new_cases) mx_new_cases \" +\n",
    "          \"from hmmm \" +\n",
    "          \"group by iso_code, location) t1 left join hmmm t2 on t1.iso_code = t2.iso_code and t1.mx_new_cases = t2.new_cases \" +\n",
    "          \"order by t1.mx_new_cases desc\").show(15)"
   ]
  },
  {
   "cell_type": "code",
   "execution_count": 16,
   "id": "e4eef68c",
   "metadata": {
    "collapsed": true
   },
   "outputs": [
    {
     "data": {
      "text/plain": [
       "'\\nПосчитайте изменение случаев относительно предыдущего дня в России за последнюю неделю марта 2021. \\n(например: в россии вчера было 9150 , сегодня 8763, итог: -387) \\n(в выходящем датасете необходимы колонки: число, кол-во новых случаев вчера, \\nкол-во новых случаев сегодня, дельта)\\n\\nЗадание 3 - здесь вычисляете верно, но не за тот год - нужно за 2021. \\nИ еще можно использовать функцию lag - это то же самое, что lead с параметром -1\\n'"
      ]
     },
     "execution_count": 16,
     "metadata": {},
     "output_type": "execute_result"
    }
   ],
   "source": [
    "'''\n",
    "Посчитайте изменение случаев относительно предыдущего дня в России за последнюю неделю марта 2021. \n",
    "(например: в россии вчера было 9150 , сегодня 8763, итог: -387) \n",
    "(в выходящем датасете необходимы колонки: число, кол-во новых случаев вчера, \n",
    "кол-во новых случаев сегодня, дельта)\n",
    "\n",
    "Задание 3 - здесь вычисляете верно, но не за тот год - нужно за 2021. \n",
    "И еще можно использовать функцию lag - это то же самое, что lead с параметром -1\n",
    "'''\n"
   ]
  },
  {
   "cell_type": "code",
   "execution_count": 17,
   "id": "b6b2f74e",
   "metadata": {},
   "outputs": [],
   "source": [
    "schema = StructType([StructField(\"iso_code\", StringType(), False),\n",
    "                     StructField(\"continent\", StringType(), True),\n",
    "                     StructField(\"location\", StringType(), False),\n",
    "                     StructField(\"date\", TimestampType(), False),\n",
    "                     StructField(\"new_cases\", IntegerType(), True)\n",
    "                    ])"
   ]
  },
  {
   "cell_type": "code",
   "execution_count": 18,
   "id": "ef1e9ac6",
   "metadata": {},
   "outputs": [],
   "source": [
    "df = (spark.read\n",
    "          .option('header', True)\n",
    "          .option('sep', ',')\n",
    "          .option('inferSchema', True)\n",
    "          .csv('Downloads/owid-covid-data.csv')\n",
    "     )"
   ]
  },
  {
   "cell_type": "code",
   "execution_count": 19,
   "id": "a8658cc9",
   "metadata": {},
   "outputs": [],
   "source": [
    "from pyspark.sql.window import Window\n",
    "from pyspark.sql.functions import lag \n"
   ]
  },
  {
   "cell_type": "code",
   "execution_count": 20,
   "id": "be50a8cf",
   "metadata": {},
   "outputs": [],
   "source": [
    "windowSpec  = Window.partitionBy(\"iso_code\").orderBy(\"date\")"
   ]
  },
  {
   "cell_type": "code",
   "execution_count": 21,
   "id": "7084f8fb",
   "metadata": {},
   "outputs": [],
   "source": [
    "ddf = df.select('iso_code', 'location', 'date', 'new_cases') \\\n",
    ".filter((df.iso_code == 'RUS') & (df.date >= '2021-03-24') &  (df.date <= '2021-04-01')) \\\n",
    ".withColumn(\"lag\",lag(\"new_cases\", 1).over(windowSpec)).na.fill(value=0)"
   ]
  },
  {
   "cell_type": "code",
   "execution_count": 22,
   "id": "30e6d32a",
   "metadata": {},
   "outputs": [
    {
     "name": "stdout",
     "output_type": "stream",
     "text": [
      "+--------+--------+----------+---------+------+------+\n",
      "|iso_code|location|      date|new_cases|   lag|Result|\n",
      "+--------+--------+----------+---------+------+------+\n",
      "|     RUS|  Russia|2021-03-24|   8769.0|   0.0|8769.0|\n",
      "|     RUS|  Russia|2021-03-25|   9128.0|8769.0| 359.0|\n",
      "|     RUS|  Russia|2021-03-26|   9073.0|9128.0| -55.0|\n",
      "|     RUS|  Russia|2021-03-27|   8783.0|9073.0|-290.0|\n",
      "|     RUS|  Russia|2021-03-28|   8979.0|8783.0| 196.0|\n",
      "|     RUS|  Russia|2021-03-29|   8589.0|8979.0|-390.0|\n",
      "|     RUS|  Russia|2021-03-30|   8162.0|8589.0|-427.0|\n",
      "|     RUS|  Russia|2021-03-31|   8156.0|8162.0|  -6.0|\n",
      "|     RUS|  Russia|2021-04-01|   9057.0|8156.0| 901.0|\n",
      "+--------+--------+----------+---------+------+------+\n",
      "\n"
     ]
    }
   ],
   "source": [
    "ddf.withColumn('Result', ( ddf['new_cases'] - ddf['lag'] ) ).show()"
   ]
  }
 ],
 "metadata": {
  "kernelspec": {
   "display_name": "Python 3 (ipykernel)",
   "language": "python",
   "name": "python3"
  },
  "language_info": {
   "codemirror_mode": {
    "name": "ipython",
    "version": 3
   },
   "file_extension": ".py",
   "mimetype": "text/x-python",
   "name": "python",
   "nbconvert_exporter": "python",
   "pygments_lexer": "ipython3",
   "version": "3.9.7"
  }
 },
 "nbformat": 4,
 "nbformat_minor": 5
}
