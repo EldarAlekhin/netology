{
 "cells": [
  {
   "cell_type": "code",
   "execution_count": 1,
   "id": "ee8679f1",
   "metadata": {},
   "outputs": [],
   "source": [
    "import findspark"
   ]
  },
  {
   "cell_type": "code",
   "execution_count": 2,
   "id": "40315e80",
   "metadata": {},
   "outputs": [],
   "source": [
    "from pyspark.sql import SparkSession"
   ]
  },
  {
   "cell_type": "code",
   "execution_count": 3,
   "id": "00269c25",
   "metadata": {},
   "outputs": [],
   "source": [
    "spark = SparkSession \\\n",
    "    .builder \\\n",
    "    .appName(\"Домашнее задание 2\") \\\n",
    "    .config(\"spark.some.config.option\", \"some-value\") \\\n",
    "    .getOrCreate()"
   ]
  },
  {
   "cell_type": "code",
   "execution_count": 4,
   "id": "b2356079",
   "metadata": {},
   "outputs": [
    {
     "data": {
      "text/plain": [
       "'\\nДавайте в 1 и 2 заданиях поменяем год на 2021 тоже и посмотрим на результаты.\\n'"
      ]
     },
     "execution_count": 4,
     "metadata": {},
     "output_type": "execute_result"
    }
   ],
   "source": [
    "#Выберите 15 стран с наибольшим процентом переболевших на 31 марта \n",
    "#(в выходящем датасете необходимы колонки: iso_code, страна, процент переболевших)\n",
    "\n",
    "\"\"\"\n",
    "Задание 1 - здесь вы вывели просто значение колонки total_cases - но эта колонка означает количество зафиксированных\n",
    "на данный день случаев (суммарно), а не процент переболевших. Чтобы посчитать процент переболевших, нужно подумать,\n",
    "из каких колонок это можно вывести. Самое простое - взять total_cases и поделить на population - уже будет неплохая оценка\n",
    "процента переболевших. Только не забудьте умножить на 100.\n",
    "\n",
    "\"\"\"\n",
    "\"\"\"\n",
    "Давайте в 1 и 2 заданиях поменяем год на 2021 тоже и посмотрим на результаты.\n",
    "\"\"\"\n"
   ]
  },
  {
   "cell_type": "code",
   "execution_count": 5,
   "id": "63d991ad",
   "metadata": {},
   "outputs": [],
   "source": [
    "from pyspark.sql.types import *\n",
    "import pyspark.sql.functions as func"
   ]
  },
  {
   "cell_type": "code",
   "execution_count": 6,
   "id": "4aac1266",
   "metadata": {},
   "outputs": [],
   "source": [
    "schema = StructType([StructField(\"iso_code\", StringType(), False),\n",
    "                     StructField(\"continent\", StringType(), True),\n",
    "                     StructField(\"location\", StringType(), False),\n",
    "                     StructField(\"date\", TimestampType(), False),\n",
    "                     StructField(\"total_cases\", IntegerType(), True),\n",
    "                     StructField(\"population\", IntegerType(), True)\n",
    "                    ])"
   ]
  },
  {
   "cell_type": "code",
   "execution_count": 7,
   "id": "cc81a901",
   "metadata": {},
   "outputs": [],
   "source": [
    "df = (spark.read\n",
    "          .option('header', True)\n",
    "          .option('sep', ',')\n",
    "          .option('inferSchema', True)\n",
    "          .csv('Downloads/owid-covid-data.csv')\n",
    "     )"
   ]
  },
  {
   "cell_type": "code",
   "execution_count": 8,
   "id": "82083a39",
   "metadata": {},
   "outputs": [],
   "source": [
    "df = df.select('iso_code', 'location', 'total_cases', \"population\") \\\n",
    ".filter((df.date == '2021-03-31') & (df.continent.isNotNull()))\n"
   ]
  },
  {
   "cell_type": "code",
   "execution_count": 9,
   "id": "dea346f1",
   "metadata": {},
   "outputs": [],
   "source": [
    "df = df.withColumn('Result', func.round(df['total_cases'] / df['population'] * 100,2))"
   ]
  },
  {
   "cell_type": "code",
   "execution_count": 10,
   "id": "d891203f",
   "metadata": {},
   "outputs": [
    {
     "name": "stdout",
     "output_type": "stream",
     "text": [
      "+--------+-------------+-----------+------------+------+\n",
      "|iso_code|     location|total_cases|  population|Result|\n",
      "+--------+-------------+-----------+------------+------+\n",
      "|     AND|      Andorra|    12010.0|     77265.0| 15.54|\n",
      "|     MNE|   Montenegro|    91218.0|    628062.0| 14.52|\n",
      "|     CZE|      Czechia|  1532332.0| 1.0708982E7| 14.31|\n",
      "|     SMR|   San Marino|     4730.0|     33938.0| 13.94|\n",
      "|     SVN|     Slovenia|   215602.0|   2078932.0| 10.37|\n",
      "|     LUX|   Luxembourg|    61642.0|    625976.0|  9.85|\n",
      "|     ISR|       Israel|   833105.0|   8655541.0|  9.63|\n",
      "|     USA|United States| 3.046221E7|3.31002647E8|   9.2|\n",
      "|     SRB|       Serbia|   600596.0|   6804596.0|  8.83|\n",
      "|     BHR|      Bahrain|   144445.0|   1701583.0|  8.49|\n",
      "|     PAN|       Panama|   355051.0|   4314768.0|  8.23|\n",
      "|     PRT|     Portugal|   821722.0| 1.0196707E7|  8.06|\n",
      "|     EST|      Estonia|   106424.0|   1326539.0|  8.02|\n",
      "|     SWE|       Sweden|   804886.0|  1.009927E7|  7.97|\n",
      "|     LTU|    Lithuania|   216119.0|   2722291.0|  7.94|\n",
      "+--------+-------------+-----------+------------+------+\n",
      "only showing top 15 rows\n",
      "\n"
     ]
    }
   ],
   "source": [
    "df.sort(df.Result.desc()).show(15)"
   ]
  },
  {
   "cell_type": "code",
   "execution_count": 11,
   "id": "3da6147c",
   "metadata": {},
   "outputs": [
    {
     "data": {
      "text/plain": [
       "'\\nДавайте в 1 и 2 заданиях поменяем год на 2021 тоже и посмотрим на результаты.\\n'"
      ]
     },
     "execution_count": 11,
     "metadata": {},
     "output_type": "execute_result"
    }
   ],
   "source": [
    "'''\n",
    "Top 10 стран с максимальным зафиксированным кол-вом новых случаев за последнюю неделю марта 2021 в отсортированном \n",
    "порядке по убыванию (в выходящем датасете необходимы колонки: число, страна, кол-во новых случаев)\n",
    "\n",
    "Задание 2 - здесь вы используете неправильную колонку для выполнения вычислений. \n",
    "Total_cases - это суммарное количество случаев, зафиксированных К данной дате. Оно всегда увеличивается, \n",
    "поэтому когда вы взяли max(total_cases) - у вас всегда максимум будет 31-го числа (самая поздняя дата). \n",
    "Чтобы вычислить правильно, в этом задании нужно использовать колонку new_cases - это количество новых случаев, \n",
    "зафиксированных В данную дату.\n",
    "'''\n",
    "\"\"\"\n",
    "Давайте в 1 и 2 заданиях поменяем год на 2021 тоже и посмотрим на результаты.\n",
    "\"\"\"\n",
    "\n"
   ]
  },
  {
   "cell_type": "code",
   "execution_count": 12,
   "id": "9cee2032",
   "metadata": {},
   "outputs": [],
   "source": [
    "schema = StructType([StructField(\"iso_code\", StringType(), False),\n",
    "                     StructField(\"continent\", StringType(), True),\n",
    "                     StructField(\"location\", StringType(), False),\n",
    "                     StructField(\"date\", TimestampType(), False),\n",
    "                     StructField(\"new_cases\", IntegerType(), True)\n",
    "                    ])"
   ]
  },
  {
   "cell_type": "code",
   "execution_count": 13,
   "id": "e4560f91",
   "metadata": {},
   "outputs": [],
   "source": [
    "df = (spark.read\n",
    "          .option('header', True)\n",
    "          .option('sep', ',')\n",
    "          .option('inferSchema', True)\n",
    "          .csv('Downloads/owid-covid-data.csv')\n",
    "     )"
   ]
  },
  {
   "cell_type": "code",
   "execution_count": 14,
   "id": "b6e8b4e4",
   "metadata": {},
   "outputs": [],
   "source": [
    "df.select('iso_code', 'location', 'new_cases', 'date') \\\n",
    ".filter((df.date >= '2021-03-24') &  (df.date <= '2021-03-31') & (df.continent.isNotNull())) \\\n",
    ".createOrReplaceTempView(\"hmmm\")"
   ]
  },
  {
   "cell_type": "code",
   "execution_count": 15,
   "id": "ee1eca25",
   "metadata": {},
   "outputs": [
    {
     "name": "stdout",
     "output_type": "stream",
     "text": [
      "+----------+--------+-------------+------------+\n",
      "|      date|iso_code|     location|mx_new_cases|\n",
      "+----------+--------+-------------+------------+\n",
      "|2021-03-25|     BRA|       Brazil|    100158.0|\n",
      "|2021-03-24|     USA|United States|     86960.0|\n",
      "|2021-03-31|     IND|        India|     72330.0|\n",
      "|2021-03-24|     FRA|       France|     65392.0|\n",
      "|2021-03-31|     TUR|       Turkey|     39302.0|\n",
      "|2021-03-26|     POL|       Poland|     35145.0|\n",
      "|2021-03-31|     DEU|      Germany|     25014.0|\n",
      "|2021-03-26|     ITA|        Italy|     24076.0|\n",
      "|2021-03-25|     PER|         Peru|     19206.0|\n",
      "|2021-03-26|     UKR|      Ukraine|     18226.0|\n",
      "|2021-03-30|     SWE|       Sweden|     16427.0|\n",
      "|2021-03-31|     ARG|    Argentina|     16056.0|\n",
      "|2021-03-29|     ESP|        Spain|     15501.0|\n",
      "|2021-03-26|     HUN|      Hungary|     11265.0|\n",
      "|2021-03-24|     CZE|      Czechia|     10972.0|\n",
      "+----------+--------+-------------+------------+\n",
      "only showing top 15 rows\n",
      "\n"
     ]
    }
   ],
   "source": [
    "spark.sql(\"Select t2.date, t1.* \" +\n",
    "          \"from (select iso_code, location, max(new_cases) mx_new_cases \" +\n",
    "          \"from hmmm \" +\n",
    "          \"group by iso_code, location) t1 left join hmmm t2 on t1.iso_code = t2.iso_code and t1.mx_new_cases = t2.new_cases \" +\n",
    "          \"order by t1.mx_new_cases desc\").show(15)"
   ]
  },
  {
   "cell_type": "code",
   "execution_count": 16,
   "id": "e4eef68c",
   "metadata": {},
   "outputs": [
    {
     "data": {
      "text/plain": [
       "'\\nВ задании 3 тоже все верно, но записей для 24-го марта и 1 апреля в результате быть не должно.\\nПридумайте, как их отфильтровать. Но при этом в результатах не должно быть 0 или null.\\n'"
      ]
     },
     "execution_count": 16,
     "metadata": {},
     "output_type": "execute_result"
    }
   ],
   "source": [
    "'''\n",
    "Посчитайте изменение случаев относительно предыдущего дня в России за последнюю неделю марта 2021. \n",
    "(например: в россии вчера было 9150 , сегодня 8763, итог: -387) \n",
    "(в выходящем датасете необходимы колонки: число, кол-во новых случаев вчера, \n",
    "кол-во новых случаев сегодня, дельта)\n",
    "\n",
    "Задание 3 - здесь вычисляете верно, но не за тот год - нужно за 2021. \n",
    "И еще можно использовать функцию lag - это то же самое, что lead с параметром -1\n",
    "'''\n",
    "\"\"\"\n",
    "В задании 3 тоже все верно, но записей для 24-го марта и 1 апреля в результате быть не должно.\n",
    "Придумайте, как их отфильтровать. Но при этом в результатах не должно быть 0 или null.\n",
    "\"\"\"\n"
   ]
  },
  {
   "cell_type": "code",
   "execution_count": 17,
   "id": "b6b2f74e",
   "metadata": {},
   "outputs": [],
   "source": [
    "schema = StructType([StructField(\"iso_code\", StringType(), False),\n",
    "                     StructField(\"continent\", StringType(), True),\n",
    "                     StructField(\"location\", StringType(), False),\n",
    "                     StructField(\"date\", TimestampType(), False),\n",
    "                     StructField(\"new_cases\", IntegerType(), True)\n",
    "                    ])"
   ]
  },
  {
   "cell_type": "code",
   "execution_count": 18,
   "id": "ef1e9ac6",
   "metadata": {},
   "outputs": [],
   "source": [
    "df = (spark.read\n",
    "          .option('header', True)\n",
    "          .option('sep', ',')\n",
    "          .option('inferSchema', True)\n",
    "          .csv('Downloads/owid-covid-data.csv')\n",
    "     )"
   ]
  },
  {
   "cell_type": "code",
   "execution_count": 19,
   "id": "a8658cc9",
   "metadata": {},
   "outputs": [],
   "source": [
    "from pyspark.sql.window import Window\n",
    "from pyspark.sql.functions import lag "
   ]
  },
  {
   "cell_type": "code",
   "execution_count": 20,
   "id": "be50a8cf",
   "metadata": {},
   "outputs": [],
   "source": [
    "windowSpec  = Window.partitionBy(\"iso_code\").orderBy(\"date\")"
   ]
  },
  {
   "cell_type": "code",
   "execution_count": 21,
   "id": "7084f8fb",
   "metadata": {},
   "outputs": [],
   "source": [
    "ddf = df.select('iso_code', 'location', 'date', 'new_cases') \\\n",
    ".filter((df.iso_code == 'RUS') & (df.date >= '2021-03-23') &  (df.date <= '2021-03-31')) \\\n",
    ".withColumn(\"lag\",lag(\"new_cases\", 1).over(windowSpec)).na.fill(value=0)"
   ]
  },
  {
   "cell_type": "code",
   "execution_count": 22,
   "id": "69827efe",
   "metadata": {},
   "outputs": [],
   "source": [
    "ddf = ddf.withColumn('Result', ( ddf['new_cases'] - ddf['lag']))"
   ]
  },
  {
   "cell_type": "code",
   "execution_count": 23,
   "id": "e5137b8d",
   "metadata": {},
   "outputs": [],
   "source": [
    "ddf = ddf.sort(ddf.date.desc()).limit(7)"
   ]
  },
  {
   "cell_type": "code",
   "execution_count": 24,
   "id": "82ad2bd2",
   "metadata": {},
   "outputs": [
    {
     "name": "stdout",
     "output_type": "stream",
     "text": [
      "+--------+--------+----------+---------+------+------+\n",
      "|iso_code|location|      date|new_cases|   lag|Result|\n",
      "+--------+--------+----------+---------+------+------+\n",
      "|     RUS|  Russia|2021-03-25|   9128.0|8769.0| 359.0|\n",
      "|     RUS|  Russia|2021-03-26|   9073.0|9128.0| -55.0|\n",
      "|     RUS|  Russia|2021-03-27|   8783.0|9073.0|-290.0|\n",
      "|     RUS|  Russia|2021-03-28|   8979.0|8783.0| 196.0|\n",
      "|     RUS|  Russia|2021-03-29|   8589.0|8979.0|-390.0|\n",
      "|     RUS|  Russia|2021-03-30|   8162.0|8589.0|-427.0|\n",
      "|     RUS|  Russia|2021-03-31|   8156.0|8162.0|  -6.0|\n",
      "+--------+--------+----------+---------+------+------+\n",
      "\n"
     ]
    }
   ],
   "source": [
    "ddf.sort(ddf.date).show()"
   ]
  }
 ],
 "metadata": {
  "kernelspec": {
   "display_name": "Python 3 (ipykernel)",
   "language": "python",
   "name": "python3"
  },
  "language_info": {
   "codemirror_mode": {
    "name": "ipython",
    "version": 3
   },
   "file_extension": ".py",
   "mimetype": "text/x-python",
   "name": "python",
   "nbconvert_exporter": "python",
   "pygments_lexer": "ipython3",
   "version": "3.9.7"
  }
 },
 "nbformat": 4,
 "nbformat_minor": 5
}
