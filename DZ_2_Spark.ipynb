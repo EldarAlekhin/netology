{
 "cells": [
  {
   "cell_type": "code",
   "execution_count": 1,
   "id": "ee8679f1",
   "metadata": {},
   "outputs": [],
   "source": [
    "import findspark"
   ]
  },
  {
   "cell_type": "code",
   "execution_count": 2,
   "id": "40315e80",
   "metadata": {},
   "outputs": [],
   "source": [
    "from pyspark.sql import SparkSession"
   ]
  },
  {
   "cell_type": "code",
   "execution_count": 3,
   "id": "00269c25",
   "metadata": {},
   "outputs": [],
   "source": [
    "spark = SparkSession \\\n",
    "    .builder \\\n",
    "    .appName(\"Домашнее задание 2\") \\\n",
    "    .config(\"spark.some.config.option\", \"some-value\") \\\n",
    "    .getOrCreate()"
   ]
  },
  {
   "cell_type": "code",
   "execution_count": 4,
   "id": "b2356079",
   "metadata": {},
   "outputs": [],
   "source": [
    "#Выберите 15 стран с наибольшим процентом переболевших на 31 марта \n",
    "#(в выходящем датасете необходимы колонки: iso_code, страна, процент переболевших)"
   ]
  },
  {
   "cell_type": "code",
   "execution_count": 5,
   "id": "63d991ad",
   "metadata": {},
   "outputs": [],
   "source": [
    "from pyspark.sql.types import *"
   ]
  },
  {
   "cell_type": "code",
   "execution_count": 6,
   "id": "0837af44",
   "metadata": {},
   "outputs": [],
   "source": [
    "schema = StructType([StructField(\"iso_code\", StringType(), False),\n",
    "                     StructField(\"continent\", StringType(), True),\n",
    "                     StructField(\"location\", StringType(), False),\n",
    "                     StructField(\"date\", TimestampType(), False),\n",
    "                     StructField(\"total_cases\", IntegerType(), True)\n",
    "                    ])"
   ]
  },
  {
   "cell_type": "code",
   "execution_count": 7,
   "id": "cc81a901",
   "metadata": {},
   "outputs": [],
   "source": [
    "df = (spark.read\n",
    "          .option('header', True)\n",
    "          .option('sep', ',')\n",
    "          .option('inferSchema', True)\n",
    "          .csv('Downloads/owid-covid-data.csv')\n",
    "     )"
   ]
  },
  {
   "cell_type": "code",
   "execution_count": 8,
   "id": "82083a39",
   "metadata": {},
   "outputs": [
    {
     "name": "stdout",
     "output_type": "stream",
     "text": [
      "+--------+--------------+-----------+\n",
      "|iso_code|      location|total_cases|\n",
      "+--------+--------------+-----------+\n",
      "|     USA| United States|   192301.0|\n",
      "|     ITA|         Italy|   105792.0|\n",
      "|     ESP|         Spain|    95923.0|\n",
      "|     CHN|         China|    82279.0|\n",
      "|     DEU|       Germany|    71808.0|\n",
      "|     FRA|        France|    52278.0|\n",
      "|     IRN|          Iran|    44605.0|\n",
      "|     GBR|United Kingdom|    38815.0|\n",
      "|     CHE|   Switzerland|    16605.0|\n",
      "|     TUR|        Turkey|    13531.0|\n",
      "|     BEL|       Belgium|    12775.0|\n",
      "|     NLD|   Netherlands|    12667.0|\n",
      "|     AUT|       Austria|    10180.0|\n",
      "|     KOR|   South Korea|     9786.0|\n",
      "|     CAN|        Canada|     8527.0|\n",
      "+--------+--------------+-----------+\n",
      "only showing top 15 rows\n",
      "\n"
     ]
    }
   ],
   "source": [
    "df.select('iso_code', 'location', 'total_cases') \\\n",
    ".filter((df.date == '2020-03-31') & (df.continent.isNotNull())) \\\n",
    ".sort(df.total_cases.desc()) \\\n",
    ".show(15)"
   ]
  },
  {
   "cell_type": "code",
   "execution_count": 9,
   "id": "3da6147c",
   "metadata": {},
   "outputs": [
    {
     "data": {
      "text/plain": [
       "'\\nTop 10 стран с максимальным зафиксированным кол-вом новых случаев за последнюю неделю марта 2021 в отсортированном \\nпорядке по убыванию (в выходящем датасете необходимы колонки: число, страна, кол-во новых случаев)\\n'"
      ]
     },
     "execution_count": 9,
     "metadata": {},
     "output_type": "execute_result"
    }
   ],
   "source": [
    "'''\n",
    "Top 10 стран с максимальным зафиксированным кол-вом новых случаев за последнюю неделю марта 2021 в отсортированном \n",
    "порядке по убыванию (в выходящем датасете необходимы колонки: число, страна, кол-во новых случаев)\n",
    "'''"
   ]
  },
  {
   "cell_type": "code",
   "execution_count": 10,
   "id": "9cee2032",
   "metadata": {},
   "outputs": [],
   "source": [
    "schema = StructType([StructField(\"iso_code\", StringType(), False),\n",
    "                     StructField(\"continent\", StringType(), True),\n",
    "                     StructField(\"location\", StringType(), False),\n",
    "                     StructField(\"date\", TimestampType(), False),\n",
    "                     StructField(\"total_cases\", IntegerType(), True)\n",
    "                    ])"
   ]
  },
  {
   "cell_type": "code",
   "execution_count": 11,
   "id": "e4560f91",
   "metadata": {},
   "outputs": [],
   "source": [
    "df = (spark.read\n",
    "          .option('header', True)\n",
    "          .option('sep', ',')\n",
    "          .option('inferSchema', True)\n",
    "          .csv('Downloads/owid-covid-data.csv')\n",
    "     )"
   ]
  },
  {
   "cell_type": "code",
   "execution_count": 12,
   "id": "b6e8b4e4",
   "metadata": {},
   "outputs": [],
   "source": [
    "df.select('iso_code', 'location', 'total_cases', 'date') \\\n",
    ".filter((df.date >= '2020-03-24') &  (df.date <= '2020-03-31') & (df.continent.isNotNull())) \\\n",
    ".createOrReplaceTempView(\"hmmm\")"
   ]
  },
  {
   "cell_type": "code",
   "execution_count": 13,
   "id": "ee1eca25",
   "metadata": {},
   "outputs": [
    {
     "name": "stdout",
     "output_type": "stream",
     "text": [
      "+----------+--------+--------------+--------------+\n",
      "|      date|iso_code|      location|mx_total_cases|\n",
      "+----------+--------+--------------+--------------+\n",
      "|2020-03-31|     USA| United States|      192301.0|\n",
      "|2020-03-31|     ITA|         Italy|      105792.0|\n",
      "|2020-03-31|     ESP|         Spain|       95923.0|\n",
      "|2020-03-31|     CHN|         China|       82279.0|\n",
      "|2020-03-31|     DEU|       Germany|       71808.0|\n",
      "|2020-03-31|     FRA|        France|       52278.0|\n",
      "|2020-03-31|     IRN|          Iran|       44605.0|\n",
      "|2020-03-31|     GBR|United Kingdom|       38815.0|\n",
      "|2020-03-31|     CHE|   Switzerland|       16605.0|\n",
      "|2020-03-31|     TUR|        Turkey|       13531.0|\n",
      "|2020-03-31|     BEL|       Belgium|       12775.0|\n",
      "|2020-03-31|     NLD|   Netherlands|       12667.0|\n",
      "|2020-03-31|     AUT|       Austria|       10180.0|\n",
      "|2020-03-31|     KOR|   South Korea|        9786.0|\n",
      "|2020-03-31|     CAN|        Canada|        8527.0|\n",
      "+----------+--------+--------------+--------------+\n",
      "only showing top 15 rows\n",
      "\n"
     ]
    }
   ],
   "source": [
    "spark.sql(\"Select t2.date, t1.* \" +\n",
    "          \"from (select iso_code, location, max(total_cases) mx_total_cases \" +\n",
    "          \"from hmmm \" +\n",
    "          \"group by iso_code, location) t1 left join hmmm t2 on t1.iso_code = t2.iso_code and t1.mx_total_cases = t2.total_cases \" +\n",
    "          \"order by t1.mx_total_cases desc\").show(15)"
   ]
  },
  {
   "cell_type": "code",
   "execution_count": 14,
   "id": "e4eef68c",
   "metadata": {},
   "outputs": [
    {
     "data": {
      "text/plain": [
       "'\\nПосчитайте изменение случаев относительно предыдущего дня в России за последнюю неделю марта 2021. \\n(например: в россии вчера было 9150 , сегодня 8763, итог: -387) \\n(в выходящем датасете необходимы колонки: число, кол-во новых случаев вчера, \\nкол-во новых случаев сегодня, дельта)\\n'"
      ]
     },
     "execution_count": 14,
     "metadata": {},
     "output_type": "execute_result"
    }
   ],
   "source": [
    "'''\n",
    "Посчитайте изменение случаев относительно предыдущего дня в России за последнюю неделю марта 2021. \n",
    "(например: в россии вчера было 9150 , сегодня 8763, итог: -387) \n",
    "(в выходящем датасете необходимы колонки: число, кол-во новых случаев вчера, \n",
    "кол-во новых случаев сегодня, дельта)\n",
    "'''\n"
   ]
  },
  {
   "cell_type": "code",
   "execution_count": 15,
   "id": "b6b2f74e",
   "metadata": {},
   "outputs": [],
   "source": [
    "schema = StructType([StructField(\"iso_code\", StringType(), False),\n",
    "                     StructField(\"continent\", StringType(), True),\n",
    "                     StructField(\"location\", StringType(), False),\n",
    "                     StructField(\"date\", TimestampType(), False),\n",
    "                     StructField(\"new_cases\", IntegerType(), True)\n",
    "                    ])"
   ]
  },
  {
   "cell_type": "code",
   "execution_count": 16,
   "id": "ef1e9ac6",
   "metadata": {},
   "outputs": [],
   "source": [
    "df = (spark.read\n",
    "          .option('header', True)\n",
    "          .option('sep', ',')\n",
    "          .option('inferSchema', True)\n",
    "          .csv('Downloads/owid-covid-data.csv')\n",
    "     )"
   ]
  },
  {
   "cell_type": "code",
   "execution_count": 17,
   "id": "a8658cc9",
   "metadata": {},
   "outputs": [],
   "source": [
    "from pyspark.sql.window import Window\n",
    "from pyspark.sql.functions import lead  \n"
   ]
  },
  {
   "cell_type": "code",
   "execution_count": 18,
   "id": "be50a8cf",
   "metadata": {},
   "outputs": [],
   "source": [
    "windowSpec  = Window.partitionBy(\"iso_code\").orderBy(\"date\")"
   ]
  },
  {
   "cell_type": "code",
   "execution_count": 19,
   "id": "7084f8fb",
   "metadata": {},
   "outputs": [],
   "source": [
    "ddf = df.select('iso_code', 'location', 'date', 'new_cases') \\\n",
    ".filter((df.iso_code == 'RUS') & (df.date >= '2020-03-24') &  (df.date <= '2020-04-01')) \\\n",
    ".withColumn(\"lead\",lead(\"new_cases\",-1).over(windowSpec)).na.fill(value=0)"
   ]
  },
  {
   "cell_type": "code",
   "execution_count": 20,
   "id": "30e6d32a",
   "metadata": {},
   "outputs": [
    {
     "name": "stdout",
     "output_type": "stream",
     "text": [
      "+--------+--------+----------+---------+-----+------+\n",
      "|iso_code|location|      date|new_cases| lead|Result|\n",
      "+--------+--------+----------+---------+-----+------+\n",
      "|     RUS|  Russia|2020-03-24|     57.0|  0.0|  57.0|\n",
      "|     RUS|  Russia|2020-03-25|    163.0| 57.0| 106.0|\n",
      "|     RUS|  Russia|2020-03-26|    182.0|163.0|  19.0|\n",
      "|     RUS|  Russia|2020-03-27|    196.0|182.0|  14.0|\n",
      "|     RUS|  Russia|2020-03-28|    228.0|196.0|  32.0|\n",
      "|     RUS|  Russia|2020-03-29|    270.0|228.0|  42.0|\n",
      "|     RUS|  Russia|2020-03-30|    302.0|270.0|  32.0|\n",
      "|     RUS|  Russia|2020-03-31|    501.0|302.0| 199.0|\n",
      "|     RUS|  Russia|2020-04-01|    440.0|501.0| -61.0|\n",
      "+--------+--------+----------+---------+-----+------+\n",
      "\n"
     ]
    }
   ],
   "source": [
    "ddf.withColumn('Result', ( ddf['new_cases'] - ddf['lead'] ) ).show()"
   ]
  },
  {
   "cell_type": "code",
   "execution_count": 21,
   "id": "ba4f89db",
   "metadata": {},
   "outputs": [
    {
     "ename": "NameError",
     "evalue": "name 'sc' is not defined",
     "output_type": "error",
     "traceback": [
      "\u001b[1;31m---------------------------------------------------------------------------\u001b[0m",
      "\u001b[1;31mNameError\u001b[0m                                 Traceback (most recent call last)",
      "\u001b[1;32mC:\\Users\\EC090~1.ALE\\AppData\\Local\\Temp/ipykernel_1728/4134826275.py\u001b[0m in \u001b[0;36m<module>\u001b[1;34m\u001b[0m\n\u001b[1;32m----> 1\u001b[1;33m \u001b[0msc\u001b[0m\u001b[1;33m.\u001b[0m\u001b[0mstop\u001b[0m\u001b[1;33m(\u001b[0m\u001b[1;33m)\u001b[0m\u001b[1;33m\u001b[0m\u001b[1;33m\u001b[0m\u001b[0m\n\u001b[0m",
      "\u001b[1;31mNameError\u001b[0m: name 'sc' is not defined"
     ]
    }
   ],
   "source": [
    "sc.stop()"
   ]
  }
 ],
 "metadata": {
  "kernelspec": {
   "display_name": "Python 3 (ipykernel)",
   "language": "python",
   "name": "python3"
  },
  "language_info": {
   "codemirror_mode": {
    "name": "ipython",
    "version": 3
   },
   "file_extension": ".py",
   "mimetype": "text/x-python",
   "name": "python",
   "nbconvert_exporter": "python",
   "pygments_lexer": "ipython3",
   "version": "3.9.7"
  }
 },
 "nbformat": 4,
 "nbformat_minor": 5
}
